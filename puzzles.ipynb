{
 "cells": [
  {
   "cell_type": "code",
   "execution_count": 3,
   "metadata": {
    "vscode": {
     "languageId": "commonlisp"
    }
   },
   "outputs": [
    {
     "data": {
      "text/plain": [
       "TWICE-LINEAR"
      ]
     },
     "execution_count": 3,
     "metadata": {},
     "output_type": "execute_result"
    }
   ],
   "source": [
    "\n",
    "(defun twice-linear (n)\n",
    "  (declare (fixnum n))\n",
    "  (loop\n",
    "    :with a = (list 1) :with at = a\n",
    "    :with b = (list 1) :with bt = b\n",
    "    :for x fixnum = (min (car a) (car b))\n",
    "    :repeat n\n",
    "    :do\n",
    "      (nconc at (list (1+ (* 2 x))))\n",
    "      (nconc bt (list (1+ (* 3 x))))\n",
    "      (pop at)\n",
    "      (pop bt)\n",
    "      (if (= x (car a)) (pop a))\n",
    "      (if (= x (car b)) (pop b))\n",
    "    :finally (return x)))"
   ]
  },
  {
   "cell_type": "code",
   "execution_count": 4,
   "metadata": {
    "vscode": {
     "languageId": "commonlisp"
    }
   },
   "outputs": [
    {
     "data": {
      "text/plain": [
       "22"
      ]
     },
     "execution_count": 4,
     "metadata": {},
     "output_type": "execute_result"
    }
   ],
   "source": [
    "(twice-linear 10)"
   ]
  },
  {
   "cell_type": "code",
   "execution_count": null,
   "metadata": {
    "vscode": {
     "languageId": "commonlisp"
    }
   },
   "outputs": [],
   "source": []
  }
 ],
 "metadata": {
  "kernelspec": {
   "display_name": "Common Lisp",
   "language": "common-lisp",
   "name": "common-lisp"
  },
  "language_info": {
   "codemirror_mode": "text/x-common-lisp",
   "file_extension": ".lisp",
   "mimetype": "text/x-common-lisp",
   "name": "common-lisp",
   "pygments_lexer": "common-lisp",
   "version": "2.4.2"
  }
 },
 "nbformat": 4,
 "nbformat_minor": 2
}
