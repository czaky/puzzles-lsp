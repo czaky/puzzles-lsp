{
 "cells": [
  {
   "cell_type": "code",
   "execution_count": 3,
   "metadata": {
    "vscode": {
     "languageId": "commonlisp"
    }
   },
   "outputs": [
    {
     "data": {
      "text/plain": [
       "PERSON"
      ]
     },
     "execution_count": 3,
     "metadata": {},
     "output_type": "execute_result"
    },
    {
     "name": "stdout",
     "output_type": "stream",
     "text": [
      "SB-KERNEL:REDEFINITION-WITH-DEFUN: redefining COMMON-LISP-USER::COPY-PERSON in DEFUN\n",
      "SB-KERNEL:REDEFINITION-WITH-DEFUN: redefining COMMON-LISP-USER::PERSON-P in DEFUN\n",
      "SB-KERNEL:REDEFINITION-WITH-DEFUN: redefining (COMMON-LISP:SETF COMMON-LISP-USER::PERSON-BIRTH-UTIME) in DEFUN\n",
      "SB-KERNEL:REDEFINITION-WITH-DEFUN: redefining COMMON-LISP-USER::PERSON-BIRTH-UTIME in DEFUN\n",
      "SB-KERNEL:REDEFINITION-WITH-DEFUN: redefining (COMMON-LISP:SETF COMMON-LISP-USER::PERSON-NAME) in DEFUN\n",
      "SB-KERNEL:REDEFINITION-WITH-DEFUN: redefining COMMON-LISP-USER::PERSON-NAME in DEFUN\n",
      "SB-KERNEL:REDEFINITION-WITH-DEFUN: redefining (COMMON-LISP:SETF COMMON-LISP-USER::PERSON-TEKNONYM) in DEFUN\n",
      "SB-KERNEL:REDEFINITION-WITH-DEFUN: redefining COMMON-LISP-USER::PERSON-TEKNONYM in DEFUN\n",
      "SB-KERNEL:REDEFINITION-WITH-DEFUN: redefining (COMMON-LISP:SETF COMMON-LISP-USER::PERSON-SEX) in DEFUN\n",
      "SB-KERNEL:REDEFINITION-WITH-DEFUN: redefining COMMON-LISP-USER::PERSON-SEX in DEFUN\n",
      "SB-KERNEL:REDEFINITION-WITH-DEFUN: redefining (COMMON-LISP:SETF COMMON-LISP-USER::PERSON-CHILDREN) in DEFUN\n",
      "SB-KERNEL:REDEFINITION-WITH-DEFUN: redefining COMMON-LISP-USER::PERSON-CHILDREN in DEFUN\n",
      "SB-KERNEL:REDEFINITION-WITH-DEFUN: redefining COMMON-LISP-USER::MAKE-PERSON in DEFUN\n"
     ]
    }
   ],
   "source": [
    "(defstruct person\n",
    "  (birth-utime nil :type fixnum)\n",
    "  (name nil :type string)\n",
    "  (teknonym \"\" :type string)\n",
    "  (sex nil :type (member #\\m #\\f))\n",
    "  (children nil :type list))"
   ]
  },
  {
   "cell_type": "code",
   "execution_count": 44,
   "metadata": {
    "vscode": {
     "languageId": "commonlisp"
    }
   },
   "outputs": [
    {
     "data": {
      "text/plain": [
       "TEKNONYM"
      ]
     },
     "execution_count": 44,
     "metadata": {},
     "output_type": "execute_result"
    },
    {
     "name": "stdout",
     "output_type": "stream",
     "text": [
      "SB-KERNEL:REDEFINITION-WITH-DEFUN: redefining COMMON-LISP-USER::TEKNONYM in DEFUN\n"
     ]
    }
   ],
   "source": [
    "(defun teknonym (s level name)\n",
    "  (format nil \"~v@{~A~:*~}~*~:[~;grand~]~:[father~;mother~] of ~A\"\n",
    "    (- level 2) \"great-\" (> level 1) (char= s #\\f) name))"
   ]
  },
  {
   "cell_type": "code",
   "execution_count": 45,
   "metadata": {
    "vscode": {
     "languageId": "commonlisp"
    }
   },
   "outputs": [
    {
     "data": {
      "text/plain": [
       "\"great-great-grandmother of Anna\""
      ]
     },
     "execution_count": 45,
     "metadata": {},
     "output_type": "execute_result"
    }
   ],
   "source": [
    "(teknonym #\\f 4 \"Anna\")"
   ]
  },
  {
   "cell_type": "code",
   "execution_count": 39,
   "metadata": {
    "vscode": {
     "languageId": "commonlisp"
    }
   },
   "outputs": [
    {
     "data": {
      "text/plain": [
       "TEKNONYMIZE"
      ]
     },
     "execution_count": 39,
     "metadata": {},
     "output_type": "execute_result"
    },
    {
     "name": "stdout",
     "output_type": "stream",
     "text": [
      "SB-KERNEL:REDEFINITION-WITH-DEFUN: redefining COMMON-LISP-USER::TEKNONYMIZE in DEFUN\n"
     ]
    }
   ],
   "source": [
    "(defun teknonymize (tree)\n",
    "  (declare (type person tree))\n",
    "  (labels\n",
    "    ((descend (n)\n",
    "      (declare (type person tree))\n",
    "      (if (person-children n)\n",
    "        (multiple-value-bind (level d) (descend (first (person-children n)))\n",
    "          (dolist (c (cdr (person-children n)))\n",
    "            (multiple-value-bind (clevel cd) (descend c)\n",
    "              (when (or (< level clevel)\n",
    "                        (and (= level clevel)\n",
    "                             (< (person-birth-utime cd) (person-birth-utime d))))\n",
    "                  (setf level clevel d cd))))\n",
    "          (setf (person-teknonym n) (teknonym (person-sex n) level (person-name d)))\n",
    "          (values (1+ level) d))\n",
    "        (values 1 n))))\n",
    "    (descend tree)\n",
    "    (values)))"
   ]
  },
  {
   "cell_type": "code",
   "execution_count": 40,
   "metadata": {
    "vscode": {
     "languageId": "commonlisp"
    }
   },
   "outputs": [
    {
     "data": {
      "text/plain": [
       "*T*"
      ]
     },
     "execution_count": 40,
     "metadata": {},
     "output_type": "execute_result"
    }
   ],
   "source": [
    "(defparameter *t*\n",
    "  (make-person :birth-utime 1000 :name \"Abdul\" :sex #\\m\n",
    "    :children\n",
    "    (list (make-person :birth-utime 800 :name \"Sarah\" :sex #\\f))))"
   ]
  },
  {
   "cell_type": "code",
   "execution_count": 43,
   "metadata": {
    "vscode": {
     "languageId": "commonlisp"
    }
   },
   "outputs": [
    {
     "data": {
      "text/plain": [
       "#S(PERSON\n",
       "   :BIRTH-UTIME 1000\n",
       "   :NAME \"Abdul\"\n",
       "   :TEKNONYM \"mother of Sarah\"\n",
       "   :SEX #\\m\n",
       "   :CHILDREN (#S(PERSON\n",
       "                 :BIRTH-UTIME 800\n",
       "                 :NAME \"Sarah\"\n",
       "                 :TEKNONYM \"\"\n",
       "                 :SEX #\\f\n",
       "                 :CHILDREN NIL)))"
      ]
     },
     "execution_count": 43,
     "metadata": {},
     "output_type": "execute_result"
    }
   ],
   "source": [
    "*t*"
   ]
  },
  {
   "cell_type": "code",
   "execution_count": 42,
   "metadata": {
    "vscode": {
     "languageId": "commonlisp"
    }
   },
   "outputs": [],
   "source": [
    "(teknonymize *t*)"
   ]
  },
  {
   "cell_type": "code",
   "execution_count": null,
   "metadata": {
    "vscode": {
     "languageId": "commonlisp"
    }
   },
   "outputs": [],
   "source": []
  }
 ],
 "metadata": {
  "kernelspec": {
   "display_name": "Common Lisp",
   "language": "common-lisp",
   "name": "common-lisp"
  },
  "language_info": {
   "codemirror_mode": "text/x-common-lisp",
   "file_extension": ".lisp",
   "mimetype": "text/x-common-lisp",
   "name": "common-lisp",
   "pygments_lexer": "common-lisp",
   "version": "2.4.2"
  }
 },
 "nbformat": 4,
 "nbformat_minor": 2
}
